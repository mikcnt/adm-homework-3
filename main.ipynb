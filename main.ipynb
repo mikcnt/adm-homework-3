{
 "cells": [
  {
   "cell_type": "code",
   "execution_count": 1,
   "metadata": {
    "execution": {
     "iopub.execute_input": "2020-12-06T16:20:16.118338Z",
     "iopub.status.busy": "2020-12-06T16:20:16.118091Z",
     "iopub.status.idle": "2020-12-06T16:20:17.433735Z",
     "shell.execute_reply": "2020-12-06T16:20:17.433174Z",
     "shell.execute_reply.started": "2020-12-06T16:20:16.118270Z"
    }
   },
   "outputs": [],
   "source": [
    "import pandas as pd\n",
    "import matplotlib.pyplot as plt\n",
    "from langdetect import detect\n",
    "import string\n",
    "import data_collector\n",
    "import parser\n",
    "from nltk.corpus import stopwords\n",
    "from nltk.tokenize import word_tokenize\n",
    "from nltk.stem import PorterStemmer\n",
    "from nltk.stem import WordNetLemmatizer\n",
    "from collections import defaultdict\n",
    "import pickle\n",
    "import math\n",
    "import numpy as np\n",
    "import heapq\n",
    "import re\n",
    "import functions"
   ]
  },
  {
   "cell_type": "code",
   "execution_count": 21,
   "metadata": {
    "execution": {
     "iopub.execute_input": "2020-12-06T16:21:50.479706Z",
     "iopub.status.busy": "2020-12-06T16:21:50.479462Z",
     "iopub.status.idle": "2020-12-06T16:21:50.483098Z",
     "shell.execute_reply": "2020-12-06T16:21:50.482234Z",
     "shell.execute_reply.started": "2020-12-06T16:21:50.479675Z"
    }
   },
   "outputs": [],
   "source": [
    "import pandas as pd"
   ]
  },
  {
   "cell_type": "markdown",
   "metadata": {},
   "source": [
    "# 1. Data Collection\n",
    "Maybe it is important to write some notes about this part. There are two main possible approaches to retrieve correctly the data.\n",
    "\n",
    "The classical one is to just retrieve the books using `requests`. This obviously works, and as long as the syntax is correct, there is no problem with that. Unfortunately, downloading one book at a time takes a really long time, going from 10 to 20 hours. This is a lot, even if we split the work between teammates! A simple but effective trick could be to run the same program different times, simultaneously. In fact, this doesn't represent a heavy task (at least for our pc!). To exploit this little trick, we have to make sure that the program is actually starting from different points, and that there is no overlapping between the different runs. Moreover, we don't want to download books that we already downloaded, even if an overlapping takes place. Actually, this is something that we want to make sure for each and every approach we can think of!\n",
    "\n",
    "If we actually try to exploit this trick, we can see that our computer can run several (more than 10, for instance) runs at once. This fact should certainly encourage us to consider a different approach: if our computer can actually run different instances at the same time without making a sound, maybe there is a better (and more natural) way to approach this problem! And in fact there is! This kind of work is well described by one single word: multiprocessing! Ok, maybe more than one: multiprocessing, multithreading, asynchronous programming... etc. These are all different words that describe similar phenomenons, that we can summarise with: make our pc do different things at once.\n",
    "\n",
    "We decided to use asynchronous programming, using the `asyncio` library. It is not actually that easy to understand what this does, at least without first becoming somewhat proficient, but the main concept is that we let our system download multiple chunks of books at the same time. This really makes the download go faster! For instance, we were able to download the complete set of books htmls (30000) in just 20 minutes. Cool, isn't it? We're not going to explain every single passage of the program here, but this is the idea:\n",
    "\n",
    "First, we downloaded the html pages for the best book pages (e.g., https://www.goodreads.com/list/show/1.Best_Books_Ever?page=1). From these, we extracted all the links (and we actually did this in a pretty standard way), then we proceedeed with the download of the 30000 html pages, downloading simultaneously batches of 100 books. Once this was done, we used `rm_fails` to remove books that were either corrupted or empty (books with a size too small).\n",
    "\n",
    "If one wants to learn a little bit more about asynchronous programming, there is an interesting link explaining some of the basics (and not so basic). The blogpost name, [I’m too stupid for AsyncIO](https://whatisjasongoldstein.com/writing/im-too-stupid-for-asyncio/), let's us understand that we're all on the same boat. It's an hard programming paradigm."
   ]
  },
  {
   "cell_type": "markdown",
   "metadata": {},
   "source": [
    "## Get the list of the books\n",
    "We already have the list of books in the pc, so we won't do it again. When submitted, all the parameters should be `True`.\n",
    "\n",
    "Set to `True` both dirs, bests and links parameters to create the correct directories and download the txt containing all the html links."
   ]
  },
  {
   "cell_type": "code",
   "execution_count": 2,
   "metadata": {
    "execution": {
     "iopub.execute_input": "2020-12-03T12:52:35.529870Z",
     "iopub.status.busy": "2020-12-03T12:52:35.529607Z",
     "iopub.status.idle": "2020-12-03T12:52:35.532422Z",
     "shell.execute_reply": "2020-12-03T12:52:35.531997Z",
     "shell.execute_reply.started": "2020-12-03T12:52:35.529816Z"
    }
   },
   "outputs": [],
   "source": [
    "data_collector.download_books(dirs=True, bests=True, links=True)"
   ]
  },
  {
   "cell_type": "markdown",
   "metadata": {},
   "source": [
    "## 1.1 Crawl books\n",
    "We already have all the htmls in the pc, so we won't do it again. When submitted, all the parameters should be `True`.\n",
    "\n",
    "Set to `True` both the books and fails parameters to download all the html pages and remove the ones with broken pages."
   ]
  },
  {
   "cell_type": "code",
   "execution_count": 3,
   "metadata": {
    "execution": {
     "iopub.execute_input": "2020-12-03T12:52:35.533663Z",
     "iopub.status.busy": "2020-12-03T12:52:35.533536Z",
     "iopub.status.idle": "2020-12-03T12:52:35.574903Z",
     "shell.execute_reply": "2020-12-03T12:52:35.572970Z",
     "shell.execute_reply.started": "2020-12-03T12:52:35.533647Z"
    }
   },
   "outputs": [],
   "source": [
    "data_collector.download_books(books=True, fails=True)"
   ]
  },
  {
   "cell_type": "markdown",
   "metadata": {},
   "source": [
    "## 1.2 Parse downloaded pages\n",
    "Set to `True` the create parameter to parse the downloaded html pages and create the tsv file (takes a lot parse all the pages)."
   ]
  },
  {
   "cell_type": "code",
   "execution_count": 4,
   "metadata": {
    "execution": {
     "iopub.execute_input": "2020-12-03T12:52:35.579258Z",
     "iopub.status.busy": "2020-12-03T12:52:35.578638Z",
     "iopub.status.idle": "2020-12-03T12:52:35.587904Z",
     "shell.execute_reply": "2020-12-03T12:52:35.585913Z",
     "shell.execute_reply.started": "2020-12-03T12:52:35.579179Z"
    }
   },
   "outputs": [],
   "source": [
    "parser.create_tsv(create=False)"
   ]
  },
  {
   "cell_type": "code",
   "execution_count": 5,
   "metadata": {
    "execution": {
     "iopub.execute_input": "2020-12-03T12:52:35.591406Z",
     "iopub.status.busy": "2020-12-03T12:52:35.590811Z",
     "iopub.status.idle": "2020-12-03T12:52:35.871567Z",
     "shell.execute_reply": "2020-12-03T12:52:35.871087Z",
     "shell.execute_reply.started": "2020-12-03T12:52:35.591329Z"
    }
   },
   "outputs": [],
   "source": [
    "df = pd.read_csv('./data/parsed_books.tsv', sep='\\t')"
   ]
  },
  {
   "cell_type": "code",
   "execution_count": 6,
   "metadata": {
    "execution": {
     "iopub.execute_input": "2020-12-03T12:52:35.872200Z",
     "iopub.status.busy": "2020-12-03T12:52:35.872081Z",
     "iopub.status.idle": "2020-12-03T12:52:35.878342Z",
     "shell.execute_reply": "2020-12-03T12:52:35.877711Z",
     "shell.execute_reply.started": "2020-12-03T12:52:35.872184Z"
    }
   },
   "outputs": [
    {
     "data": {
      "text/plain": [
       "(29959, 12)"
      ]
     },
     "execution_count": 6,
     "metadata": {},
     "output_type": "execute_result"
    }
   ],
   "source": [
    "df.shape"
   ]
  },
  {
   "cell_type": "code",
   "execution_count": 7,
   "metadata": {
    "execution": {
     "iopub.execute_input": "2020-12-03T12:52:35.879259Z",
     "iopub.status.busy": "2020-12-03T12:52:35.879114Z",
     "iopub.status.idle": "2020-12-03T12:52:35.905345Z",
     "shell.execute_reply": "2020-12-03T12:52:35.904891Z",
     "shell.execute_reply.started": "2020-12-03T12:52:35.879241Z"
    }
   },
   "outputs": [
    {
     "data": {
      "text/html": [
       "<div>\n",
       "<style scoped>\n",
       "    .dataframe tbody tr th:only-of-type {\n",
       "        vertical-align: middle;\n",
       "    }\n",
       "\n",
       "    .dataframe tbody tr th {\n",
       "        vertical-align: top;\n",
       "    }\n",
       "\n",
       "    .dataframe thead th {\n",
       "        text-align: right;\n",
       "    }\n",
       "</style>\n",
       "<table border=\"1\" class=\"dataframe\">\n",
       "  <thead>\n",
       "    <tr style=\"text-align: right;\">\n",
       "      <th></th>\n",
       "      <th>bookTitle</th>\n",
       "      <th>bookSeries</th>\n",
       "      <th>bookAuthors</th>\n",
       "      <th>ratingValue</th>\n",
       "      <th>ratingCount</th>\n",
       "      <th>reviewCount</th>\n",
       "      <th>Plot</th>\n",
       "      <th>numberOfPages</th>\n",
       "      <th>PublishingDate</th>\n",
       "      <th>Characters</th>\n",
       "      <th>Setting</th>\n",
       "      <th>Url</th>\n",
       "    </tr>\n",
       "  </thead>\n",
       "  <tbody>\n",
       "    <tr>\n",
       "      <th>0</th>\n",
       "      <td>The Hunger Games</td>\n",
       "      <td>The Hunger Games #1</td>\n",
       "      <td>Suzanne Collins</td>\n",
       "      <td>4.33</td>\n",
       "      <td>6408798.0</td>\n",
       "      <td>172554.0</td>\n",
       "      <td>Could you survive on your own in the wild, wit...</td>\n",
       "      <td>374.0</td>\n",
       "      <td>September 14th 2008</td>\n",
       "      <td>Katniss Everdeen Peeta Mellark Cato (Hunger Ga...</td>\n",
       "      <td>District 12, Panem Capitol, Panem Panem</td>\n",
       "      <td>https://www.goodreads.com/book/show/2767052-th...</td>\n",
       "    </tr>\n",
       "    <tr>\n",
       "      <th>1</th>\n",
       "      <td>Harry Potter and the Order of the Phoenix</td>\n",
       "      <td>Harry Potter #5</td>\n",
       "      <td>J.K. Rowling</td>\n",
       "      <td>4.50</td>\n",
       "      <td>2525157.0</td>\n",
       "      <td>42734.0</td>\n",
       "      <td>There is a door at the end of a silent corrido...</td>\n",
       "      <td>870.0</td>\n",
       "      <td>September 2004</td>\n",
       "      <td>Sirius Black Draco Malfoy Ron Weasley Petunia ...</td>\n",
       "      <td>Hogwarts School of Witchcraft and Wizardry Lon...</td>\n",
       "      <td>https://www.goodreads.com/book/show/2.Harry_Po...</td>\n",
       "    </tr>\n",
       "    <tr>\n",
       "      <th>2</th>\n",
       "      <td>To Kill a Mockingbird</td>\n",
       "      <td>To Kill a Mockingbird</td>\n",
       "      <td>Harper Lee</td>\n",
       "      <td>4.28</td>\n",
       "      <td>4527405.0</td>\n",
       "      <td>91802.0</td>\n",
       "      <td>The unforgettable novel of a childhood in a sl...</td>\n",
       "      <td>324.0</td>\n",
       "      <td>May 23rd 2006</td>\n",
       "      <td>Scout Finch Atticus Finch Jem Finch Arthur Rad...</td>\n",
       "      <td>Maycomb, Alabama</td>\n",
       "      <td>https://www.goodreads.com/book/show/2657.To_Ki...</td>\n",
       "    </tr>\n",
       "    <tr>\n",
       "      <th>3</th>\n",
       "      <td>Pride and Prejudice</td>\n",
       "      <td>NaN</td>\n",
       "      <td>Jane Austen</td>\n",
       "      <td>4.26</td>\n",
       "      <td>3017830.0</td>\n",
       "      <td>67811.0</td>\n",
       "      <td>Alternate cover edition of ISBN 9780679783268S...</td>\n",
       "      <td>279.0</td>\n",
       "      <td>October 10th 2000</td>\n",
       "      <td>Mr. Bennet Mrs. Bennet Jane Bennet Elizabeth B...</td>\n",
       "      <td>United Kingdom Derbyshire, England England Her...</td>\n",
       "      <td>https://www.goodreads.com/book/show/1885.Pride...</td>\n",
       "    </tr>\n",
       "    <tr>\n",
       "      <th>4</th>\n",
       "      <td>Twilight</td>\n",
       "      <td>The Twilight Saga #1</td>\n",
       "      <td>Stephenie Meyer</td>\n",
       "      <td>3.60</td>\n",
       "      <td>4989910.0</td>\n",
       "      <td>104912.0</td>\n",
       "      <td>About three things I was absolutely positive.F...</td>\n",
       "      <td>501.0</td>\n",
       "      <td>September 6th 2006</td>\n",
       "      <td>Edward Cullen Jacob Black Laurent Renee Bella ...</td>\n",
       "      <td>Forks, Washington Phoenix, Arizona Washington ...</td>\n",
       "      <td>https://www.goodreads.com/book/show/41865.Twil...</td>\n",
       "    </tr>\n",
       "  </tbody>\n",
       "</table>\n",
       "</div>"
      ],
      "text/plain": [
       "                                   bookTitle             bookSeries  \\\n",
       "0                           The Hunger Games    The Hunger Games #1   \n",
       "1  Harry Potter and the Order of the Phoenix        Harry Potter #5   \n",
       "2                      To Kill a Mockingbird  To Kill a Mockingbird   \n",
       "3                        Pride and Prejudice                    NaN   \n",
       "4                                   Twilight   The Twilight Saga #1   \n",
       "\n",
       "       bookAuthors  ratingValue  ratingCount  reviewCount  \\\n",
       "0  Suzanne Collins         4.33    6408798.0     172554.0   \n",
       "1     J.K. Rowling         4.50    2525157.0      42734.0   \n",
       "2       Harper Lee         4.28    4527405.0      91802.0   \n",
       "3      Jane Austen         4.26    3017830.0      67811.0   \n",
       "4  Stephenie Meyer         3.60    4989910.0     104912.0   \n",
       "\n",
       "                                                Plot  numberOfPages  \\\n",
       "0  Could you survive on your own in the wild, wit...          374.0   \n",
       "1  There is a door at the end of a silent corrido...          870.0   \n",
       "2  The unforgettable novel of a childhood in a sl...          324.0   \n",
       "3  Alternate cover edition of ISBN 9780679783268S...          279.0   \n",
       "4  About three things I was absolutely positive.F...          501.0   \n",
       "\n",
       "        PublishingDate                                         Characters  \\\n",
       "0  September 14th 2008  Katniss Everdeen Peeta Mellark Cato (Hunger Ga...   \n",
       "1       September 2004  Sirius Black Draco Malfoy Ron Weasley Petunia ...   \n",
       "2        May 23rd 2006  Scout Finch Atticus Finch Jem Finch Arthur Rad...   \n",
       "3    October 10th 2000  Mr. Bennet Mrs. Bennet Jane Bennet Elizabeth B...   \n",
       "4   September 6th 2006  Edward Cullen Jacob Black Laurent Renee Bella ...   \n",
       "\n",
       "                                             Setting  \\\n",
       "0            District 12, Panem Capitol, Panem Panem   \n",
       "1  Hogwarts School of Witchcraft and Wizardry Lon...   \n",
       "2                                   Maycomb, Alabama   \n",
       "3  United Kingdom Derbyshire, England England Her...   \n",
       "4  Forks, Washington Phoenix, Arizona Washington ...   \n",
       "\n",
       "                                                 Url  \n",
       "0  https://www.goodreads.com/book/show/2767052-th...  \n",
       "1  https://www.goodreads.com/book/show/2.Harry_Po...  \n",
       "2  https://www.goodreads.com/book/show/2657.To_Ki...  \n",
       "3  https://www.goodreads.com/book/show/1885.Pride...  \n",
       "4  https://www.goodreads.com/book/show/41865.Twil...  "
      ]
     },
     "execution_count": 7,
     "metadata": {},
     "output_type": "execute_result"
    }
   ],
   "source": [
    "df.head()"
   ]
  },
  {
   "cell_type": "markdown",
   "metadata": {},
   "source": [
    "## 1.3 Dataset cleaning [preliminary steps]\n",
    "Before actually jumping into the work itself, we want our dataframe to be clean, meaning that there are some preliminary steps we need to perform on it. First of all, missing data is something we should pay attention to. Lots of rows are going to have missing data somewhere, and dealing with missing data it's not that nice. Notice that this will include different strategies for each of the column we will be considering (more details below). Then there is the problem with punctuation, stopwords, stems and so on so forth, so basic text data preprocessing. Let's make a brief recap:\n",
    "\n",
    "1. **Missing data**\n",
    "    - `bookTitle`: if a book is missing the title, then we can safely just remove the instance. In fact, books that are missing the title are actually missing all the informations, meaning that there is a problem with the GoodReads specific link. Also, even if a book was missing just the title, we wouldn't have a way to refer to it, thus it wouldn't be really useful considering we're building a search engine.\n",
    "    - `bookSeries`, `Authors`, `Plot`, `PublishingDate`, `Characters`, `Setting`: if a book is missing one of the above mentioned columns, we can still include the book in the data, since the search engine could for example work with just the title. Obviously, we cannot just leave the values missing, since it would be really hard to perform any operation on that. These are all text columns, therefore the best way to address the missing values prolem is to replace NaNs with empty strings.\n",
    "\n",
    "2. **Text data preprocessing**\n",
    "    - Punctuation removal: this is the first step we want to perform, since it is going to make the next steps much easier (e.g., language detection will be easier if there aren't plots composed just by punctuation symbols).\n",
    "    - Language detection: before doing anything else, we want to remove the books that present the books for which the plot isn't in english.\n",
    "    - Stopwords removal (of the `Plot` column only)\n",
    "    - Stemming (of the `Plot` column only)\n",
    "    - Lowercase"
   ]
  },
  {
   "cell_type": "markdown",
   "metadata": {},
   "source": [
    "### Missing values"
   ]
  },
  {
   "cell_type": "markdown",
   "metadata": {},
   "source": [
    "#### Title\n",
    "There are 774 books that are completely empty, and these corresponds to the ones that are missing the `bookTitle` column. If you give a look at the url, you can see that these are not given by our python script to download and parse the books, but actually from the fact that the link is broken. Also, you can see that all the books that are missing the `bookTitle` are also missing all the remaining data.\n",
    "\n",
    "This means that we can safely just remove all the rows that are missing the `bookTitle` column."
   ]
  },
  {
   "cell_type": "code",
   "execution_count": 8,
   "metadata": {
    "execution": {
     "iopub.execute_input": "2020-12-03T12:52:35.906058Z",
     "iopub.status.busy": "2020-12-03T12:52:35.905928Z",
     "iopub.status.idle": "2020-12-03T12:52:35.931287Z",
     "shell.execute_reply": "2020-12-03T12:52:35.930803Z",
     "shell.execute_reply.started": "2020-12-03T12:52:35.906040Z"
    }
   },
   "outputs": [
    {
     "name": "stdout",
     "output_type": "stream",
     "text": [
      "There are 774 instances that are missing the `bookTitle` column.\n",
      "\n"
     ]
    },
    {
     "data": {
      "text/html": [
       "<div>\n",
       "<style scoped>\n",
       "    .dataframe tbody tr th:only-of-type {\n",
       "        vertical-align: middle;\n",
       "    }\n",
       "\n",
       "    .dataframe tbody tr th {\n",
       "        vertical-align: top;\n",
       "    }\n",
       "\n",
       "    .dataframe thead th {\n",
       "        text-align: right;\n",
       "    }\n",
       "</style>\n",
       "<table border=\"1\" class=\"dataframe\">\n",
       "  <thead>\n",
       "    <tr style=\"text-align: right;\">\n",
       "      <th></th>\n",
       "      <th>bookTitle</th>\n",
       "      <th>bookSeries</th>\n",
       "      <th>bookAuthors</th>\n",
       "      <th>ratingValue</th>\n",
       "      <th>ratingCount</th>\n",
       "      <th>reviewCount</th>\n",
       "      <th>Plot</th>\n",
       "      <th>numberOfPages</th>\n",
       "      <th>PublishingDate</th>\n",
       "      <th>Characters</th>\n",
       "      <th>Setting</th>\n",
       "      <th>Url</th>\n",
       "    </tr>\n",
       "  </thead>\n",
       "  <tbody>\n",
       "    <tr>\n",
       "      <th>311</th>\n",
       "      <td>NaN</td>\n",
       "      <td>NaN</td>\n",
       "      <td>NaN</td>\n",
       "      <td>NaN</td>\n",
       "      <td>NaN</td>\n",
       "      <td>NaN</td>\n",
       "      <td>NaN</td>\n",
       "      <td>NaN</td>\n",
       "      <td>NaN</td>\n",
       "      <td>NaN</td>\n",
       "      <td>NaN</td>\n",
       "      <td>https://www.goodreads.com/book/show/40937505\\r\\n</td>\n",
       "    </tr>\n",
       "    <tr>\n",
       "      <th>370</th>\n",
       "      <td>NaN</td>\n",
       "      <td>NaN</td>\n",
       "      <td>NaN</td>\n",
       "      <td>NaN</td>\n",
       "      <td>NaN</td>\n",
       "      <td>NaN</td>\n",
       "      <td>NaN</td>\n",
       "      <td>NaN</td>\n",
       "      <td>NaN</td>\n",
       "      <td>NaN</td>\n",
       "      <td>NaN</td>\n",
       "      <td>https://www.goodreads.com/book/show/30528535\\r\\n</td>\n",
       "    </tr>\n",
       "    <tr>\n",
       "      <th>379</th>\n",
       "      <td>NaN</td>\n",
       "      <td>NaN</td>\n",
       "      <td>NaN</td>\n",
       "      <td>NaN</td>\n",
       "      <td>NaN</td>\n",
       "      <td>NaN</td>\n",
       "      <td>NaN</td>\n",
       "      <td>NaN</td>\n",
       "      <td>NaN</td>\n",
       "      <td>NaN</td>\n",
       "      <td>NaN</td>\n",
       "      <td>https://www.goodreads.com/book/show/30528544\\r\\n</td>\n",
       "    </tr>\n",
       "    <tr>\n",
       "      <th>789</th>\n",
       "      <td>NaN</td>\n",
       "      <td>NaN</td>\n",
       "      <td>NaN</td>\n",
       "      <td>NaN</td>\n",
       "      <td>NaN</td>\n",
       "      <td>NaN</td>\n",
       "      <td>NaN</td>\n",
       "      <td>NaN</td>\n",
       "      <td>NaN</td>\n",
       "      <td>NaN</td>\n",
       "      <td>NaN</td>\n",
       "      <td>https://www.goodreads.com/book/show/40941582\\r\\n</td>\n",
       "    </tr>\n",
       "    <tr>\n",
       "      <th>1141</th>\n",
       "      <td>NaN</td>\n",
       "      <td>NaN</td>\n",
       "      <td>NaN</td>\n",
       "      <td>NaN</td>\n",
       "      <td>NaN</td>\n",
       "      <td>NaN</td>\n",
       "      <td>NaN</td>\n",
       "      <td>NaN</td>\n",
       "      <td>NaN</td>\n",
       "      <td>NaN</td>\n",
       "      <td>NaN</td>\n",
       "      <td>https://www.goodreads.com/book/show/5295735\\r\\n</td>\n",
       "    </tr>\n",
       "  </tbody>\n",
       "</table>\n",
       "</div>"
      ],
      "text/plain": [
       "     bookTitle bookSeries bookAuthors  ratingValue  ratingCount  reviewCount  \\\n",
       "311        NaN        NaN         NaN          NaN          NaN          NaN   \n",
       "370        NaN        NaN         NaN          NaN          NaN          NaN   \n",
       "379        NaN        NaN         NaN          NaN          NaN          NaN   \n",
       "789        NaN        NaN         NaN          NaN          NaN          NaN   \n",
       "1141       NaN        NaN         NaN          NaN          NaN          NaN   \n",
       "\n",
       "     Plot  numberOfPages PublishingDate Characters Setting  \\\n",
       "311   NaN            NaN            NaN        NaN     NaN   \n",
       "370   NaN            NaN            NaN        NaN     NaN   \n",
       "379   NaN            NaN            NaN        NaN     NaN   \n",
       "789   NaN            NaN            NaN        NaN     NaN   \n",
       "1141  NaN            NaN            NaN        NaN     NaN   \n",
       "\n",
       "                                                   Url  \n",
       "311   https://www.goodreads.com/book/show/40937505\\r\\n  \n",
       "370   https://www.goodreads.com/book/show/30528535\\r\\n  \n",
       "379   https://www.goodreads.com/book/show/30528544\\r\\n  \n",
       "789   https://www.goodreads.com/book/show/40941582\\r\\n  \n",
       "1141   https://www.goodreads.com/book/show/5295735\\r\\n  "
      ]
     },
     "execution_count": 8,
     "metadata": {},
     "output_type": "execute_result"
    }
   ],
   "source": [
    "functions.book_title_summary(df)"
   ]
  },
  {
   "cell_type": "code",
   "execution_count": 9,
   "metadata": {
    "execution": {
     "iopub.execute_input": "2020-12-03T12:52:35.932918Z",
     "iopub.status.busy": "2020-12-03T12:52:35.932736Z",
     "iopub.status.idle": "2020-12-03T12:52:35.940542Z",
     "shell.execute_reply": "2020-12-03T12:52:35.939923Z",
     "shell.execute_reply.started": "2020-12-03T12:52:35.932883Z"
    }
   },
   "outputs": [],
   "source": [
    "# Remove empty books\n",
    "df = df[(df['bookTitle'].notna())]"
   ]
  },
  {
   "cell_type": "markdown",
   "metadata": {},
   "source": [
    "#### Text data\n",
    "To handle missing data in the preprocessing, we'll need to convert NaNs to empty strings, for text data."
   ]
  },
  {
   "cell_type": "code",
   "execution_count": 10,
   "metadata": {
    "execution": {
     "iopub.execute_input": "2020-12-03T12:52:35.941648Z",
     "iopub.status.busy": "2020-12-03T12:52:35.941513Z",
     "iopub.status.idle": "2020-12-03T12:52:35.960842Z",
     "shell.execute_reply": "2020-12-03T12:52:35.960412Z",
     "shell.execute_reply.started": "2020-12-03T12:52:35.941631Z"
    }
   },
   "outputs": [],
   "source": [
    "str_columns = ['bookSeries', 'bookAuthors', 'Plot', 'PublishingDate', 'Characters', 'Setting']\n",
    "\n",
    "for col in str_columns:\n",
    "    df[col] = df[col].fillna('')"
   ]
  },
  {
   "cell_type": "markdown",
   "metadata": {},
   "source": [
    "### Text data preprocessing"
   ]
  },
  {
   "cell_type": "markdown",
   "metadata": {},
   "source": [
    "#### Punctuation removal\n",
    "Our first approach was to use the nltk package, like for everything else we did in the text preprocessing part, but we noticed that it has a little bug when dealing with strings that have a minus character `-`. In fact, it tends to just ignore it. For this reason, we decided to use regex and create our function from scratch."
   ]
  },
  {
   "cell_type": "code",
   "execution_count": 11,
   "metadata": {
    "execution": {
     "iopub.execute_input": "2020-12-03T12:52:35.961517Z",
     "iopub.status.busy": "2020-12-03T12:52:35.961399Z",
     "iopub.status.idle": "2020-12-03T12:52:37.173910Z",
     "shell.execute_reply": "2020-12-03T12:52:37.173372Z",
     "shell.execute_reply.started": "2020-12-03T12:52:35.961501Z"
    }
   },
   "outputs": [],
   "source": [
    "for col in str_columns:\n",
    "    if col != 'bookSeries':\n",
    "        df[col] = df[col].apply(functions.remove_punctuation)"
   ]
  },
  {
   "cell_type": "markdown",
   "metadata": {
    "execution": {
     "iopub.execute_input": "2020-11-22T13:11:07.055797Z",
     "iopub.status.busy": "2020-11-22T13:11:07.055640Z",
     "iopub.status.idle": "2020-11-22T13:11:07.074512Z",
     "shell.execute_reply": "2020-11-22T13:11:07.073991Z",
     "shell.execute_reply.started": "2020-11-22T13:11:07.055779Z"
    }
   },
   "source": [
    "#### Language detection\n",
    "There are four possibilities `Plot` column of a given book:\n",
    "1. It is written in english\n",
    "2. It is written in another language\n",
    "3. It is empty\n",
    "4. It contains symbols, numbers, and so on\n",
    "\n",
    "We want to keep only the ones written in english, so we are just going to discard the others."
   ]
  },
  {
   "cell_type": "code",
   "execution_count": 12,
   "metadata": {
    "execution": {
     "iopub.execute_input": "2020-12-03T12:52:37.174687Z",
     "iopub.status.busy": "2020-12-03T12:52:37.174560Z",
     "iopub.status.idle": "2020-12-03T12:54:39.117672Z",
     "shell.execute_reply": "2020-12-03T12:54:39.117217Z",
     "shell.execute_reply.started": "2020-12-03T12:52:37.174670Z"
    }
   },
   "outputs": [],
   "source": [
    "df['plot_lang'] = df['Plot'].apply(functions.language_det)\n",
    "\n",
    "df = df[df['plot_lang'] == 'en'].drop(columns=['plot_lang'])"
   ]
  },
  {
   "cell_type": "code",
   "execution_count": 13,
   "metadata": {
    "execution": {
     "iopub.execute_input": "2020-12-03T12:54:39.118421Z",
     "iopub.status.busy": "2020-12-03T12:54:39.118302Z",
     "iopub.status.idle": "2020-12-03T12:54:39.121267Z",
     "shell.execute_reply": "2020-12-03T12:54:39.120838Z",
     "shell.execute_reply.started": "2020-12-03T12:54:39.118405Z"
    }
   },
   "outputs": [
    {
     "data": {
      "text/plain": [
       "(26120, 12)"
      ]
     },
     "execution_count": 13,
     "metadata": {},
     "output_type": "execute_result"
    }
   ],
   "source": [
    "df.shape"
   ]
  },
  {
   "cell_type": "markdown",
   "metadata": {},
   "source": [
    "#### Stopwords removal\n",
    "We are not going to perform stopwords removal on all the columns, since we could remove important things (e.g., we don't want to remove anything from the names of the characters). The only column on which stopwords removal is necessary is `Plot`."
   ]
  },
  {
   "cell_type": "code",
   "execution_count": 14,
   "metadata": {
    "execution": {
     "iopub.execute_input": "2020-12-03T12:54:39.121844Z",
     "iopub.status.busy": "2020-12-03T12:54:39.121730Z",
     "iopub.status.idle": "2020-12-03T12:54:56.328589Z",
     "shell.execute_reply": "2020-12-03T12:54:56.328157Z",
     "shell.execute_reply.started": "2020-12-03T12:54:39.121829Z"
    }
   },
   "outputs": [],
   "source": [
    "df['Plot'] = df['Plot'].apply(functions.remove_stopwords)"
   ]
  },
  {
   "cell_type": "markdown",
   "metadata": {},
   "source": [
    "#### Stemming\n",
    "As for the stopwords removal, the only column on which stemming is necessary is `Plot`. Notice that we're using the stemming function twice, since there are words that are stemmed in really similar roots (we noticed that there are words that are either stemmed to *games* or *game*). This shouldn't be the case! If we apply stemming again, we should solve this issue."
   ]
  },
  {
   "cell_type": "code",
   "execution_count": 15,
   "metadata": {
    "execution": {
     "iopub.execute_input": "2020-12-03T12:54:56.329402Z",
     "iopub.status.busy": "2020-12-03T12:54:56.329283Z",
     "iopub.status.idle": "2020-12-03T12:56:23.705084Z",
     "shell.execute_reply": "2020-12-03T12:56:23.704621Z",
     "shell.execute_reply.started": "2020-12-03T12:54:56.329385Z"
    }
   },
   "outputs": [],
   "source": [
    "df['Plot'] = df['Plot'].apply(functions.stemming)\n",
    "df['Plot'] = df['Plot'].apply(functions.stemming)"
   ]
  },
  {
   "cell_type": "markdown",
   "metadata": {
    "execution": {
     "iopub.execute_input": "2020-11-22T15:16:37.617866Z",
     "iopub.status.busy": "2020-11-22T15:16:37.617156Z",
     "iopub.status.idle": "2020-11-22T15:17:23.722941Z",
     "shell.execute_reply": "2020-11-22T15:17:23.722477Z",
     "shell.execute_reply.started": "2020-11-22T15:16:37.617782Z"
    }
   },
   "source": [
    "#### Lowercase\n",
    "On the other hand, we want all the string columns to be lowercase, so that our search engine won't have problems with upper/lower case differences."
   ]
  },
  {
   "cell_type": "code",
   "execution_count": 16,
   "metadata": {
    "execution": {
     "iopub.execute_input": "2020-12-03T12:56:23.705844Z",
     "iopub.status.busy": "2020-12-03T12:56:23.705725Z",
     "iopub.status.idle": "2020-12-03T12:56:23.751631Z",
     "shell.execute_reply": "2020-12-03T12:56:23.751104Z",
     "shell.execute_reply.started": "2020-12-03T12:56:23.705828Z"
    }
   },
   "outputs": [],
   "source": [
    "for col in str_columns:\n",
    "    df[col] = df[col].apply(lambda w: w.lower())"
   ]
  },
  {
   "cell_type": "markdown",
   "metadata": {},
   "source": [
    "### Save data"
   ]
  },
  {
   "cell_type": "code",
   "execution_count": 17,
   "metadata": {
    "execution": {
     "iopub.execute_input": "2020-12-03T12:56:23.752253Z",
     "iopub.status.busy": "2020-12-03T12:56:23.752130Z",
     "iopub.status.idle": "2020-12-03T12:56:24.206485Z",
     "shell.execute_reply": "2020-12-03T12:56:24.205954Z",
     "shell.execute_reply.started": "2020-12-03T12:56:23.752236Z"
    }
   },
   "outputs": [],
   "source": [
    "df = df.reset_index(drop=True).reset_index()\n",
    "\n",
    "df.to_csv('./data/clean_data.csv', index=False)"
   ]
  },
  {
   "cell_type": "markdown",
   "metadata": {},
   "source": [
    "# 2. Search Engine"
   ]
  },
  {
   "cell_type": "markdown",
   "metadata": {},
   "source": [
    "## 2.1 Conjunctive query\n",
    "The first search engine we are going to build is a really naive one. It's just going to retrieve documents through an AND search, without the help of a scoring function to better show the results in an appropriate way. This obviously means that when the user is going to enter a query, he's not going to obtain interesting results, he's just going to obtain the full range of results he searched for, without any logic order.\n",
    "\n",
    "If we actually try to use this search engine to search for \"survival games\", we can see that it seems to work in a pretty good way. It shows us the results we would expect us to find! Unfortunately, this is just given by the fact that the books were **previously** sorted so that the best books (in the GoodReads page) were first. In a more realistic scenario, we're just going to have our database,and we wouldn't have any specific a priori pattern whatsoever. Meaning that a more realistic result page would look something like our results, but shuffled. In the following cells, we are going to show both the results given by the the search engine as it is (that we again specify is somehow biased by the fact that GoodReads already sorted the results), and how they would look like in a more realistic scenario."
   ]
  },
  {
   "cell_type": "markdown",
   "metadata": {},
   "source": [
    "### 2.1.1 Create your index!"
   ]
  },
  {
   "cell_type": "code",
   "execution_count": 18,
   "metadata": {
    "execution": {
     "iopub.execute_input": "2020-12-06T16:20:48.102339Z",
     "iopub.status.busy": "2020-12-06T16:20:48.102178Z",
     "iopub.status.idle": "2020-12-06T16:20:48.352451Z",
     "shell.execute_reply": "2020-12-06T16:20:48.351972Z",
     "shell.execute_reply.started": "2020-12-06T16:20:48.102320Z"
    }
   },
   "outputs": [],
   "source": [
    "# Read data\n",
    "df = pd.read_csv('./data/clean_data.csv')"
   ]
  },
  {
   "cell_type": "code",
   "execution_count": 19,
   "metadata": {
    "execution": {
     "iopub.execute_input": "2020-12-06T16:20:48.799437Z",
     "iopub.status.busy": "2020-12-06T16:20:48.799278Z",
     "iopub.status.idle": "2020-12-06T16:20:48.960898Z",
     "shell.execute_reply": "2020-12-06T16:20:48.960272Z",
     "shell.execute_reply.started": "2020-12-06T16:20:48.799419Z"
    }
   },
   "outputs": [],
   "source": [
    "# term_indexes = functions.term_index(df['Plot'])\n",
    "# inv_indexes = functions.inverted_index(df['Plot'], term_indexes)\n",
    "\n",
    "# functions.save_obj(term_indexes, 'vocabulary')\n",
    "# functions.save_obj(inv_indexes, 'inverted_index')\n",
    "\n",
    "term_indexes = functions.load_obj('vocabulary')\n",
    "inv_indexes = functions.load_obj('inverted_index')"
   ]
  },
  {
   "cell_type": "markdown",
   "metadata": {},
   "source": [
    "### 2.1.2 Execute the query"
   ]
  },
  {
   "cell_type": "code",
   "execution_count": 20,
   "metadata": {
    "execution": {
     "iopub.execute_input": "2020-12-04T14:51:15.786744Z",
     "iopub.status.busy": "2020-12-04T14:51:15.786557Z",
     "iopub.status.idle": "2020-12-04T14:51:15.843389Z",
     "shell.execute_reply": "2020-12-04T14:51:15.842719Z",
     "shell.execute_reply.started": "2020-12-04T14:51:15.786713Z"
    }
   },
   "outputs": [
    {
     "data": {
      "text/html": [
       "<div>\n",
       "<style scoped>\n",
       "    .dataframe tbody tr th:only-of-type {\n",
       "        vertical-align: middle;\n",
       "    }\n",
       "\n",
       "    .dataframe tbody tr th {\n",
       "        vertical-align: top;\n",
       "    }\n",
       "\n",
       "    .dataframe thead th {\n",
       "        text-align: right;\n",
       "    }\n",
       "</style>\n",
       "<table border=\"1\" class=\"dataframe\">\n",
       "  <thead>\n",
       "    <tr style=\"text-align: right;\">\n",
       "      <th></th>\n",
       "      <th>bookTitle</th>\n",
       "      <th>Plot</th>\n",
       "      <th>Url</th>\n",
       "    </tr>\n",
       "  </thead>\n",
       "  <tbody>\n",
       "    <tr>\n",
       "      <th>0</th>\n",
       "      <td>The Hunger Games</td>\n",
       "      <td>could surviv wild everi one make sure live see...</td>\n",
       "      <td>https://www.goodreads.com/book/show/2767052-th...</td>\n",
       "    </tr>\n",
       "    <tr>\n",
       "      <th>221</th>\n",
       "      <td>Catching Fire</td>\n",
       "      <td>spark are ignit flame are spread and the capit...</td>\n",
       "      <td>https://www.goodreads.com/book/show/6148028-ca...</td>\n",
       "    </tr>\n",
       "    <tr>\n",
       "      <th>319</th>\n",
       "      <td>Mockingjay</td>\n",
       "      <td>the final book ground break hunger game trilog...</td>\n",
       "      <td>https://www.goodreads.com/book/show/7260188-mo...</td>\n",
       "    </tr>\n",
       "    <tr>\n",
       "      <th>337</th>\n",
       "      <td>Legend</td>\n",
       "      <td>what western unit state home republ nation per...</td>\n",
       "      <td>https://www.goodreads.com/book/show/9275658-le...</td>\n",
       "    </tr>\n",
       "    <tr>\n",
       "      <th>652</th>\n",
       "      <td>The Magus</td>\n",
       "      <td>thi dare literari thriller rich erot suspen on...</td>\n",
       "      <td>https://www.goodreads.com/book/show/16286.The_...</td>\n",
       "    </tr>\n",
       "    <tr>\n",
       "      <th>...</th>\n",
       "      <td>...</td>\n",
       "      <td>...</td>\n",
       "      <td>...</td>\n",
       "    </tr>\n",
       "    <tr>\n",
       "      <th>25061</th>\n",
       "      <td>The Manhattan Hunt Club</td>\n",
       "      <td>in manhattan hunt club john saul plumb depth m...</td>\n",
       "      <td>https://www.goodreads.com/book/show/6553.The_M...</td>\n",
       "    </tr>\n",
       "    <tr>\n",
       "      <th>25525</th>\n",
       "      <td>Love's Forbidden Flower</td>\n",
       "      <td>plea note thi new adult romanc novel involv tw...</td>\n",
       "      <td>https://www.goodreads.com/book/show/16189423-l...</td>\n",
       "    </tr>\n",
       "    <tr>\n",
       "      <th>25800</th>\n",
       "      <td>The Southpaw</td>\n",
       "      <td>the southpaw stori come age america way baseb ...</td>\n",
       "      <td>https://www.goodreads.com/book/show/413736.The...</td>\n",
       "    </tr>\n",
       "    <tr>\n",
       "      <th>25821</th>\n",
       "      <td>Devil's Own</td>\n",
       "      <td>after surviv slaveri aiden macalpin noth thoug...</td>\n",
       "      <td>https://www.goodreads.com/book/show/8705483-de...</td>\n",
       "    </tr>\n",
       "    <tr>\n",
       "      <th>26058</th>\n",
       "      <td>Indian Hill</td>\n",
       "      <td>a michael talbot adventur thi first stori ordi...</td>\n",
       "      <td>https://www.goodreads.com/book/show/13305176-i...</td>\n",
       "    </tr>\n",
       "  </tbody>\n",
       "</table>\n",
       "<p>112 rows × 3 columns</p>\n",
       "</div>"
      ],
      "text/plain": [
       "                     bookTitle  \\\n",
       "0             The Hunger Games   \n",
       "221              Catching Fire   \n",
       "319                 Mockingjay   \n",
       "337                     Legend   \n",
       "652                  The Magus   \n",
       "...                        ...   \n",
       "25061  The Manhattan Hunt Club   \n",
       "25525  Love's Forbidden Flower   \n",
       "25800             The Southpaw   \n",
       "25821              Devil's Own   \n",
       "26058              Indian Hill   \n",
       "\n",
       "                                                    Plot  \\\n",
       "0      could surviv wild everi one make sure live see...   \n",
       "221    spark are ignit flame are spread and the capit...   \n",
       "319    the final book ground break hunger game trilog...   \n",
       "337    what western unit state home republ nation per...   \n",
       "652    thi dare literari thriller rich erot suspen on...   \n",
       "...                                                  ...   \n",
       "25061  in manhattan hunt club john saul plumb depth m...   \n",
       "25525  plea note thi new adult romanc novel involv tw...   \n",
       "25800  the southpaw stori come age america way baseb ...   \n",
       "25821  after surviv slaveri aiden macalpin noth thoug...   \n",
       "26058  a michael talbot adventur thi first stori ordi...   \n",
       "\n",
       "                                                     Url  \n",
       "0      https://www.goodreads.com/book/show/2767052-th...  \n",
       "221    https://www.goodreads.com/book/show/6148028-ca...  \n",
       "319    https://www.goodreads.com/book/show/7260188-mo...  \n",
       "337    https://www.goodreads.com/book/show/9275658-le...  \n",
       "652    https://www.goodreads.com/book/show/16286.The_...  \n",
       "...                                                  ...  \n",
       "25061  https://www.goodreads.com/book/show/6553.The_M...  \n",
       "25525  https://www.goodreads.com/book/show/16189423-l...  \n",
       "25800  https://www.goodreads.com/book/show/413736.The...  \n",
       "25821  https://www.goodreads.com/book/show/8705483-de...  \n",
       "26058  https://www.goodreads.com/book/show/13305176-i...  \n",
       "\n",
       "[112 rows x 3 columns]"
      ]
     },
     "execution_count": 20,
     "metadata": {},
     "output_type": "execute_result"
    }
   ],
   "source": [
    "simple_SE = functions.SimpleSearchEngine(df, term_indexes, inv_indexes)\n",
    "\n",
    "simple_SE.execute_query('survival games')"
   ]
  },
  {
   "cell_type": "markdown",
   "metadata": {},
   "source": [
    "### Observation\n",
    "As we already pointed out, in the next cell there is what our search engine would extract in a real scenario, without any previous pattern in the database. As we can see, this doesn't really make any sense. Yeah, what we're expecting is probably here somewhere, but there are just too many results and they have no organization/scoring function, so that we are just stuck with a walltext of results from which we can extract nothing.\n",
    "\n",
    "Notice that `sample(frac=1)` extracts all the rows of a given dataframe and just randomizes the order."
   ]
  },
  {
   "cell_type": "code",
   "execution_count": 36,
   "metadata": {
    "execution": {
     "iopub.execute_input": "2020-12-06T16:43:56.346888Z",
     "iopub.status.busy": "2020-12-06T16:43:56.346645Z",
     "iopub.status.idle": "2020-12-06T16:43:56.359036Z",
     "shell.execute_reply": "2020-12-06T16:43:56.358558Z",
     "shell.execute_reply.started": "2020-12-06T16:43:56.346858Z"
    }
   },
   "outputs": [
    {
     "data": {
      "text/html": [
       "<div>\n",
       "<style scoped>\n",
       "    .dataframe tbody tr th:only-of-type {\n",
       "        vertical-align: middle;\n",
       "    }\n",
       "\n",
       "    .dataframe tbody tr th {\n",
       "        vertical-align: top;\n",
       "    }\n",
       "\n",
       "    .dataframe thead th {\n",
       "        text-align: right;\n",
       "    }\n",
       "</style>\n",
       "<table border=\"1\" class=\"dataframe\">\n",
       "  <thead>\n",
       "    <tr style=\"text-align: right;\">\n",
       "      <th></th>\n",
       "      <th>bookTitle</th>\n",
       "      <th>Plot</th>\n",
       "      <th>Url</th>\n",
       "    </tr>\n",
       "  </thead>\n",
       "  <tbody>\n",
       "    <tr>\n",
       "      <th>8368</th>\n",
       "      <td>The Stolen Throne</td>\n",
       "      <td>the thrill prequel dragon age origin hit role ...</td>\n",
       "      <td>https://www.goodreads.com/book/show/6227080-th...</td>\n",
       "    </tr>\n",
       "    <tr>\n",
       "      <th>22902</th>\n",
       "      <td>Secret Society</td>\n",
       "      <td>miasha s stun debut novel with a twist that wi...</td>\n",
       "      <td>https://www.goodreads.com/book/show/184999.Sec...</td>\n",
       "    </tr>\n",
       "    <tr>\n",
       "      <th>13852</th>\n",
       "      <td>The Trap</td>\n",
       "      <td>from author andrew fukuda come the trap explo ...</td>\n",
       "      <td>https://www.goodreads.com/book/show/17286729-t...</td>\n",
       "    </tr>\n",
       "    <tr>\n",
       "      <th>21172</th>\n",
       "      <td>Psion Beta</td>\n",
       "      <td>sammi 14 year old fugit accid discov power psi...</td>\n",
       "      <td>https://www.goodreads.com/book/show/10779996-p...</td>\n",
       "    </tr>\n",
       "    <tr>\n",
       "      <th>7285</th>\n",
       "      <td>The Maze Runner Series  (The Maze Runner #1-4)</td>\n",
       "      <td>the perfect gift fan the hunger game diverg bo...</td>\n",
       "      <td>https://www.goodreads.com/book/show/20360301-t...</td>\n",
       "    </tr>\n",
       "    <tr>\n",
       "      <th>...</th>\n",
       "      <td>...</td>\n",
       "      <td>...</td>\n",
       "      <td>...</td>\n",
       "    </tr>\n",
       "    <tr>\n",
       "      <th>14394</th>\n",
       "      <td>Day Zero</td>\n",
       "      <td>arcana mean secret arcana chronicl short stori...</td>\n",
       "      <td>https://www.goodreads.com/book/show/24419968-d...</td>\n",
       "    </tr>\n",
       "    <tr>\n",
       "      <th>3856</th>\n",
       "      <td>U-10</td>\n",
       "      <td>the u 10 surviv kit might surviv use activ unr...</td>\n",
       "      <td>https://www.goodreads.com/book/show/51106657-u...</td>\n",
       "    </tr>\n",
       "    <tr>\n",
       "      <th>25525</th>\n",
       "      <td>Love's Forbidden Flower</td>\n",
       "      <td>plea note thi new adult romanc novel involv tw...</td>\n",
       "      <td>https://www.goodreads.com/book/show/16189423-l...</td>\n",
       "    </tr>\n",
       "    <tr>\n",
       "      <th>18532</th>\n",
       "      <td>The Warden</td>\n",
       "      <td>alic led normal life she wake find trap sick g...</td>\n",
       "      <td>https://www.goodreads.com/book/show/33655366-t...</td>\n",
       "    </tr>\n",
       "    <tr>\n",
       "      <th>21054</th>\n",
       "      <td>The Slave Players</td>\n",
       "      <td>it modern day deep south racial unrest rampant...</td>\n",
       "      <td>https://www.goodreads.com/book/show/48925302-t...</td>\n",
       "    </tr>\n",
       "  </tbody>\n",
       "</table>\n",
       "<p>112 rows × 3 columns</p>\n",
       "</div>"
      ],
      "text/plain": [
       "                                            bookTitle  \\\n",
       "8368                                The Stolen Throne   \n",
       "22902                                  Secret Society   \n",
       "13852                                        The Trap   \n",
       "21172                                      Psion Beta   \n",
       "7285   The Maze Runner Series  (The Maze Runner #1-4)   \n",
       "...                                               ...   \n",
       "14394                                        Day Zero   \n",
       "3856                                             U-10   \n",
       "25525                         Love's Forbidden Flower   \n",
       "18532                                      The Warden   \n",
       "21054                               The Slave Players   \n",
       "\n",
       "                                                    Plot  \\\n",
       "8368   the thrill prequel dragon age origin hit role ...   \n",
       "22902  miasha s stun debut novel with a twist that wi...   \n",
       "13852  from author andrew fukuda come the trap explo ...   \n",
       "21172  sammi 14 year old fugit accid discov power psi...   \n",
       "7285   the perfect gift fan the hunger game diverg bo...   \n",
       "...                                                  ...   \n",
       "14394  arcana mean secret arcana chronicl short stori...   \n",
       "3856   the u 10 surviv kit might surviv use activ unr...   \n",
       "25525  plea note thi new adult romanc novel involv tw...   \n",
       "18532  alic led normal life she wake find trap sick g...   \n",
       "21054  it modern day deep south racial unrest rampant...   \n",
       "\n",
       "                                                     Url  \n",
       "8368   https://www.goodreads.com/book/show/6227080-th...  \n",
       "22902  https://www.goodreads.com/book/show/184999.Sec...  \n",
       "13852  https://www.goodreads.com/book/show/17286729-t...  \n",
       "21172  https://www.goodreads.com/book/show/10779996-p...  \n",
       "7285   https://www.goodreads.com/book/show/20360301-t...  \n",
       "...                                                  ...  \n",
       "14394  https://www.goodreads.com/book/show/24419968-d...  \n",
       "3856   https://www.goodreads.com/book/show/51106657-u...  \n",
       "25525  https://www.goodreads.com/book/show/16189423-l...  \n",
       "18532  https://www.goodreads.com/book/show/33655366-t...  \n",
       "21054  https://www.goodreads.com/book/show/48925302-t...  \n",
       "\n",
       "[112 rows x 3 columns]"
      ]
     },
     "execution_count": 36,
     "metadata": {},
     "output_type": "execute_result"
    }
   ],
   "source": [
    "simple_SE.execute_query('survival games').sample(frac=1)"
   ]
  },
  {
   "cell_type": "markdown",
   "metadata": {},
   "source": [
    "## 2.2 Conjunctive query & Ranking score\n",
    "Our second attempt is made by taking into account some simple ranking score: the cosin similarity between the tfidf vector space of the query, and the one produced by the documents retrieved by a simple conjunctive query search. Moreover, now we are just going to show a small slice of the complete results dataframe. This is not reductive in any way! In fact, if we retrieve just a small amount of documents, the user can actually manually go result by result searching for what he was really asking. Not only that, but if we think about big search engines (Google, for instance) and how we use them, it's really uncommon to go after the first page of results. This happens because we humans are intrinsically lazy! And also, cause it's not really that easy to discern good results from bad ones, so we just expect the first ones to be good.\n",
    "\n",
    "Anyway, cosin similarity isn't really the best solution, because we're lacking important information. In fact, what we would expect our book description to be, isn't actually what it always is. We have to remember that the `Plot` column of our database contains just small summaries of the books, not the entire book text. It would change the world to have the complete book texts in our hands.\n",
    "\n",
    "N.B.: there are actually many works, completely unrelated to this one, that proves that the interity of the text of singular books can infer really interesting info; simple machine learning models can extract author, literary genre and so on so forth."
   ]
  },
  {
   "cell_type": "markdown",
   "metadata": {},
   "source": [
    "### 2.2.1 Inverted index"
   ]
  },
  {
   "cell_type": "code",
   "execution_count": 21,
   "metadata": {
    "execution": {
     "iopub.execute_input": "2020-12-04T14:51:18.381837Z",
     "iopub.status.busy": "2020-12-04T14:51:18.381497Z",
     "iopub.status.idle": "2020-12-04T14:51:19.008701Z",
     "shell.execute_reply": "2020-12-04T14:51:19.008204Z",
     "shell.execute_reply.started": "2020-12-04T14:51:18.381793Z"
    }
   },
   "outputs": [],
   "source": [
    "# tfidf_indexes = functions.tfidf_inv_indexes(df['Plot'], term_indexes, inv_indexes)\n",
    "\n",
    "# functions.save_obj(tfidf_indexes, 'tfidf_index')\n",
    "\n",
    "tfidf_indexes = functions.load_obj('tfidf_index')"
   ]
  },
  {
   "cell_type": "markdown",
   "metadata": {},
   "source": [
    "### 2.2.2 Execute the query"
   ]
  },
  {
   "cell_type": "code",
   "execution_count": 22,
   "metadata": {
    "execution": {
     "iopub.execute_input": "2020-12-04T14:51:20.318016Z",
     "iopub.status.busy": "2020-12-04T14:51:20.317807Z",
     "iopub.status.idle": "2020-12-04T14:51:20.358862Z",
     "shell.execute_reply": "2020-12-04T14:51:20.358275Z",
     "shell.execute_reply.started": "2020-12-04T14:51:20.317992Z"
    }
   },
   "outputs": [
    {
     "data": {
      "text/html": [
       "<div>\n",
       "<style scoped>\n",
       "    .dataframe tbody tr th:only-of-type {\n",
       "        vertical-align: middle;\n",
       "    }\n",
       "\n",
       "    .dataframe tbody tr th {\n",
       "        vertical-align: top;\n",
       "    }\n",
       "\n",
       "    .dataframe thead th {\n",
       "        text-align: right;\n",
       "    }\n",
       "</style>\n",
       "<table border=\"1\" class=\"dataframe\">\n",
       "  <thead>\n",
       "    <tr style=\"text-align: right;\">\n",
       "      <th></th>\n",
       "      <th>bookTitle</th>\n",
       "      <th>Plot</th>\n",
       "      <th>Url</th>\n",
       "      <th>Similarity</th>\n",
       "    </tr>\n",
       "  </thead>\n",
       "  <tbody>\n",
       "    <tr>\n",
       "      <th>0</th>\n",
       "      <td>The Warden</td>\n",
       "      <td>alic led normal life she wake find trap sick g...</td>\n",
       "      <td>https://www.goodreads.com/book/show/33655366-t...</td>\n",
       "      <td>0.350577</td>\n",
       "    </tr>\n",
       "    <tr>\n",
       "      <th>1</th>\n",
       "      <td>Devil's Own</td>\n",
       "      <td>after surviv slaveri aiden macalpin noth thoug...</td>\n",
       "      <td>https://www.goodreads.com/book/show/8705483-de...</td>\n",
       "      <td>0.277339</td>\n",
       "    </tr>\n",
       "    <tr>\n",
       "      <th>2</th>\n",
       "      <td>The Quillan Games</td>\n",
       "      <td>let the game beginquillan territori verg destr...</td>\n",
       "      <td>https://www.goodreads.com/book/show/215540.The...</td>\n",
       "      <td>0.247548</td>\n",
       "    </tr>\n",
       "    <tr>\n",
       "      <th>3</th>\n",
       "      <td>The Hunger Games</td>\n",
       "      <td>could surviv wild everi one make sure live see...</td>\n",
       "      <td>https://www.goodreads.com/book/show/2767052-th...</td>\n",
       "      <td>0.225207</td>\n",
       "    </tr>\n",
       "    <tr>\n",
       "      <th>4</th>\n",
       "      <td>Truth</td>\n",
       "      <td>from new york time usa today bestsel author al...</td>\n",
       "      <td>https://www.goodreads.com/book/show/16070018-t...</td>\n",
       "      <td>0.174879</td>\n",
       "    </tr>\n",
       "    <tr>\n",
       "      <th>5</th>\n",
       "      <td>The Books of the South</td>\n",
       "      <td>march south ghastli battl tower charm black co...</td>\n",
       "      <td>https://www.goodreads.com/book/show/2365730.Th...</td>\n",
       "      <td>0.173736</td>\n",
       "    </tr>\n",
       "    <tr>\n",
       "      <th>6</th>\n",
       "      <td>Cage of Darkness</td>\n",
       "      <td>while travel fren allyssa odar hijack ruthless...</td>\n",
       "      <td>https://www.goodreads.com/book/show/33893388-c...</td>\n",
       "      <td>0.162624</td>\n",
       "    </tr>\n",
       "    <tr>\n",
       "      <th>7</th>\n",
       "      <td>Warcross</td>\n",
       "      <td>for million log everi day warcross game way li...</td>\n",
       "      <td>https://www.goodreads.com/book/show/41014903-w...</td>\n",
       "      <td>0.150787</td>\n",
       "    </tr>\n",
       "    <tr>\n",
       "      <th>8</th>\n",
       "      <td>Becoming Noah Baxter</td>\n",
       "      <td>part two two part seri jay lili complet way on...</td>\n",
       "      <td>https://www.goodreads.com/book/show/18926659-b...</td>\n",
       "      <td>0.146785</td>\n",
       "    </tr>\n",
       "    <tr>\n",
       "      <th>9</th>\n",
       "      <td>Mockingjay</td>\n",
       "      <td>the final book ground break hunger game trilog...</td>\n",
       "      <td>https://www.goodreads.com/book/show/7260188-mo...</td>\n",
       "      <td>0.146581</td>\n",
       "    </tr>\n",
       "  </tbody>\n",
       "</table>\n",
       "</div>"
      ],
      "text/plain": [
       "                bookTitle                                               Plot  \\\n",
       "0              The Warden  alic led normal life she wake find trap sick g...   \n",
       "1             Devil's Own  after surviv slaveri aiden macalpin noth thoug...   \n",
       "2       The Quillan Games  let the game beginquillan territori verg destr...   \n",
       "3        The Hunger Games  could surviv wild everi one make sure live see...   \n",
       "4                   Truth  from new york time usa today bestsel author al...   \n",
       "5  The Books of the South  march south ghastli battl tower charm black co...   \n",
       "6        Cage of Darkness  while travel fren allyssa odar hijack ruthless...   \n",
       "7                Warcross  for million log everi day warcross game way li...   \n",
       "8    Becoming Noah Baxter  part two two part seri jay lili complet way on...   \n",
       "9              Mockingjay  the final book ground break hunger game trilog...   \n",
       "\n",
       "                                                 Url  Similarity  \n",
       "0  https://www.goodreads.com/book/show/33655366-t...    0.350577  \n",
       "1  https://www.goodreads.com/book/show/8705483-de...    0.277339  \n",
       "2  https://www.goodreads.com/book/show/215540.The...    0.247548  \n",
       "3  https://www.goodreads.com/book/show/2767052-th...    0.225207  \n",
       "4  https://www.goodreads.com/book/show/16070018-t...    0.174879  \n",
       "5  https://www.goodreads.com/book/show/2365730.Th...    0.173736  \n",
       "6  https://www.goodreads.com/book/show/33893388-c...    0.162624  \n",
       "7  https://www.goodreads.com/book/show/41014903-w...    0.150787  \n",
       "8  https://www.goodreads.com/book/show/18926659-b...    0.146785  \n",
       "9  https://www.goodreads.com/book/show/7260188-mo...    0.146581  "
      ]
     },
     "execution_count": 22,
     "metadata": {},
     "output_type": "execute_result"
    }
   ],
   "source": [
    "scoring_function = functions.ByTfidf(tfidf_indexes)\n",
    "\n",
    "tfidf_SE = functions.RankedSearchEngine(df, term_indexes, inv_indexes, tfidf_indexes, simple_SE, scoring_function)\n",
    "\n",
    "tfidf_SE.execute_query('survival games')"
   ]
  },
  {
   "cell_type": "markdown",
   "metadata": {},
   "source": [
    "# 3. Define a new score!\n",
    "\n",
    "For this particular task, we didn't feel like a search engine like this could benefit from multiple type of information in the query. Instead, we tought about creating a new scoring function by analizing ratings value, ratings count and book title. In fact, the vast majority of times the user is more inclined in doing particular task in a single query, instead of adding more fields to the query itself. This means that a user probably prefers to write the name of the book or just some words to describe it, and then he just waits for the books that he wants to appear. In order to do that, we need to keep in mind that more often than not a user is interested in the most famous books, so the ones that have a really high number of ratings.\n",
    "\n",
    "Also, it is probably optimal to give some value to the fact that a book is well written, and therefore that it has good ratings. Unfortunately, in our opinion the rating value isn't really telling, since it is often the case that a user either gives a max score to an item, or he gives the worst. Also, we need to keep in mind that we're considering a list of so-called \"best books\", so they probably all have good ratings (or at least the vast majority of them). We can analyze this trend, by looking at the `ratingValue` column. As we can see from the below cell, the vast majority of books have a value between 4 and 5, just one slot. This means that the weight we are going to give to this factor is going to be really low."
   ]
  },
  {
   "cell_type": "code",
   "execution_count": 23,
   "metadata": {
    "execution": {
     "iopub.execute_input": "2020-12-04T14:51:23.635429Z",
     "iopub.status.busy": "2020-12-04T14:51:23.635176Z",
     "iopub.status.idle": "2020-12-04T14:51:23.645232Z",
     "shell.execute_reply": "2020-12-04T14:51:23.644674Z",
     "shell.execute_reply.started": "2020-12-04T14:51:23.635404Z"
    }
   },
   "outputs": [
    {
     "name": "stdout",
     "output_type": "stream",
     "text": [
      "There are 11078 books with rating value between 0 and 4\n",
      "There are 14557 books with rating value greater than 4\n"
     ]
    }
   ],
   "source": [
    "functions.rating_value_summary(df)"
   ]
  },
  {
   "cell_type": "markdown",
   "metadata": {},
   "source": [
    "Then it comes the book title: we need to give value to the title column, since we want to keep in mind that if a user search for a word (or multiple words) that appears in one book title, he's probably searching for that book. For this reason, we used an exact match search in the book title, meaning that for each word in the query, we give value to this kind of match if and only if the word appears in a book title. Obviously, if a book has a really long title, this value should decrease, because it becomes easier to match a word in that given title.\n",
    "\n",
    "Finally, we still wanted to keep the tfidf cosin similiarity, since it is important to mantain some kind of check between the query and the plot, and this seemed like the best option."
   ]
  },
  {
   "cell_type": "markdown",
   "metadata": {},
   "source": [
    "## Putting all together\n",
    "1) **TfIdf** ($\\mathrm{tfidf}$): like before, we will use the cosin similiarity between the tfidf of the query and the books ones.\n",
    "\n",
    "2) **Rating Value** ($\\mathrm{R_V}$): we are going to extract a value between 0 and 1, which will be the rating value for a particular book over the max rating value.\n",
    "\n",
    "3) **Rating Count** ($\\mathrm{R_C}$): we are going to extract a value between 0 and 1, which will be the rating count for a particular book over the max rating count.\n",
    "\n",
    "4) **Book Title Match** ($\\mathrm{T_M}$): we are going to extract a value between 0 and 1, which will be the number of query words found in a given book title over the number of words in the book title.\n",
    "\n",
    "Finally, we are going to use a weighted sum. The new ranking score for a query $q$ and a given book $b_i$ will look something like this:\n",
    "\n",
    "$$\\mathrm{Rnk}(q, b_i) = \\frac{25 \\cdot \\mathrm{tfidf}(q, b_i) + 10 \\cdot \\mathrm{R_V}(q, b_i) + 35 \\cdot \\mathrm{R_C}(q, b_i) + 30 \\cdot \\mathrm{T_M}(q, b_i)}{25 + 10 + 35 + 30}$$"
   ]
  },
  {
   "cell_type": "code",
   "execution_count": 24,
   "metadata": {
    "execution": {
     "iopub.execute_input": "2020-12-04T14:51:26.481633Z",
     "iopub.status.busy": "2020-12-04T14:51:26.481441Z",
     "iopub.status.idle": "2020-12-04T14:51:26.523750Z",
     "shell.execute_reply": "2020-12-04T14:51:26.523247Z",
     "shell.execute_reply.started": "2020-12-04T14:51:26.481611Z"
    }
   },
   "outputs": [
    {
     "data": {
      "text/html": [
       "<div>\n",
       "<style scoped>\n",
       "    .dataframe tbody tr th:only-of-type {\n",
       "        vertical-align: middle;\n",
       "    }\n",
       "\n",
       "    .dataframe tbody tr th {\n",
       "        vertical-align: top;\n",
       "    }\n",
       "\n",
       "    .dataframe thead th {\n",
       "        text-align: right;\n",
       "    }\n",
       "</style>\n",
       "<table border=\"1\" class=\"dataframe\">\n",
       "  <thead>\n",
       "    <tr style=\"text-align: right;\">\n",
       "      <th></th>\n",
       "      <th>bookTitle</th>\n",
       "      <th>Plot</th>\n",
       "      <th>Url</th>\n",
       "      <th>Similarity</th>\n",
       "    </tr>\n",
       "  </thead>\n",
       "  <tbody>\n",
       "    <tr>\n",
       "      <th>0</th>\n",
       "      <td>The Hunger Games</td>\n",
       "      <td>could surviv wild everi one make sure live see...</td>\n",
       "      <td>https://www.goodreads.com/book/show/2767052-th...</td>\n",
       "      <td>0.558884</td>\n",
       "    </tr>\n",
       "    <tr>\n",
       "      <th>1</th>\n",
       "      <td>Wicked Games</td>\n",
       "      <td>abbi lewi never pictur surviv game show endur ...</td>\n",
       "      <td>https://www.goodreads.com/book/show/10719342-w...</td>\n",
       "      <td>0.263272</td>\n",
       "    </tr>\n",
       "    <tr>\n",
       "      <th>2</th>\n",
       "      <td>The Quillan Games</td>\n",
       "      <td>let the game beginquillan territori verg destr...</td>\n",
       "      <td>https://www.goodreads.com/book/show/215540.The...</td>\n",
       "      <td>0.246732</td>\n",
       "    </tr>\n",
       "    <tr>\n",
       "      <th>3</th>\n",
       "      <td>Mockingjay</td>\n",
       "      <td>the final book ground break hunger game trilog...</td>\n",
       "      <td>https://www.goodreads.com/book/show/7260188-mo...</td>\n",
       "      <td>0.233584</td>\n",
       "    </tr>\n",
       "    <tr>\n",
       "      <th>4</th>\n",
       "      <td>Catching Fire</td>\n",
       "      <td>spark are ignit flame are spread and the capit...</td>\n",
       "      <td>https://www.goodreads.com/book/show/6148028-ca...</td>\n",
       "      <td>0.222396</td>\n",
       "    </tr>\n",
       "    <tr>\n",
       "      <th>5</th>\n",
       "      <td>The Warden</td>\n",
       "      <td>alic led normal life she wake find trap sick g...</td>\n",
       "      <td>https://www.goodreads.com/book/show/33655366-t...</td>\n",
       "      <td>0.169846</td>\n",
       "    </tr>\n",
       "    <tr>\n",
       "      <th>6</th>\n",
       "      <td>Devil's Own</td>\n",
       "      <td>after surviv slaveri aiden macalpin noth thoug...</td>\n",
       "      <td>https://www.goodreads.com/book/show/8705483-de...</td>\n",
       "      <td>0.145947</td>\n",
       "    </tr>\n",
       "    <tr>\n",
       "      <th>7</th>\n",
       "      <td>Truth</td>\n",
       "      <td>from new york time usa today bestsel author al...</td>\n",
       "      <td>https://www.goodreads.com/book/show/16070018-t...</td>\n",
       "      <td>0.132435</td>\n",
       "    </tr>\n",
       "    <tr>\n",
       "      <th>8</th>\n",
       "      <td>The Books of the South</td>\n",
       "      <td>march south ghastli battl tower charm black co...</td>\n",
       "      <td>https://www.goodreads.com/book/show/2365730.Th...</td>\n",
       "      <td>0.129152</td>\n",
       "    </tr>\n",
       "    <tr>\n",
       "      <th>9</th>\n",
       "      <td>Cage of Darkness</td>\n",
       "      <td>while travel fren allyssa odar hijack ruthless...</td>\n",
       "      <td>https://www.goodreads.com/book/show/33893388-c...</td>\n",
       "      <td>0.126725</td>\n",
       "    </tr>\n",
       "  </tbody>\n",
       "</table>\n",
       "</div>"
      ],
      "text/plain": [
       "                bookTitle                                               Plot  \\\n",
       "0        The Hunger Games  could surviv wild everi one make sure live see...   \n",
       "1            Wicked Games  abbi lewi never pictur surviv game show endur ...   \n",
       "2       The Quillan Games  let the game beginquillan territori verg destr...   \n",
       "3              Mockingjay  the final book ground break hunger game trilog...   \n",
       "4           Catching Fire  spark are ignit flame are spread and the capit...   \n",
       "5              The Warden  alic led normal life she wake find trap sick g...   \n",
       "6             Devil's Own  after surviv slaveri aiden macalpin noth thoug...   \n",
       "7                   Truth  from new york time usa today bestsel author al...   \n",
       "8  The Books of the South  march south ghastli battl tower charm black co...   \n",
       "9        Cage of Darkness  while travel fren allyssa odar hijack ruthless...   \n",
       "\n",
       "                                                 Url  Similarity  \n",
       "0  https://www.goodreads.com/book/show/2767052-th...    0.558884  \n",
       "1  https://www.goodreads.com/book/show/10719342-w...    0.263272  \n",
       "2  https://www.goodreads.com/book/show/215540.The...    0.246732  \n",
       "3  https://www.goodreads.com/book/show/7260188-mo...    0.233584  \n",
       "4  https://www.goodreads.com/book/show/6148028-ca...    0.222396  \n",
       "5  https://www.goodreads.com/book/show/33655366-t...    0.169846  \n",
       "6  https://www.goodreads.com/book/show/8705483-de...    0.145947  \n",
       "7  https://www.goodreads.com/book/show/16070018-t...    0.132435  \n",
       "8  https://www.goodreads.com/book/show/2365730.Th...    0.129152  \n",
       "9  https://www.goodreads.com/book/show/33893388-c...    0.126725  "
      ]
     },
     "execution_count": 24,
     "metadata": {},
     "output_type": "execute_result"
    }
   ],
   "source": [
    "rank_calculator = functions.WeightedRanks([\n",
    "    (25, functions.ByTfidf(tfidf_indexes)),\n",
    "    (10, functions.ByRatingValue(df)),\n",
    "    (35, functions.ByRatingCount(df)),\n",
    "    (30, functions.ByTitleMatch())\n",
    "])\n",
    "\n",
    "\n",
    "rnkd_SE = functions.RankedSearchEngine(df, term_indexes, inv_indexes, tfidf_indexes, simple_SE, rank_calculator)\n",
    "\n",
    "rnkd_SE.execute_query('survival games')"
   ]
  },
  {
   "cell_type": "code",
   "execution_count": 30,
   "metadata": {
    "execution": {
     "iopub.execute_input": "2020-12-04T14:54:17.629745Z",
     "iopub.status.busy": "2020-12-04T14:54:17.629565Z",
     "iopub.status.idle": "2020-12-04T14:54:17.655758Z",
     "shell.execute_reply": "2020-12-04T14:54:17.655245Z",
     "shell.execute_reply.started": "2020-12-04T14:54:17.629724Z"
    }
   },
   "outputs": [
    {
     "data": {
      "text/html": [
       "<div>\n",
       "<style scoped>\n",
       "    .dataframe tbody tr th:only-of-type {\n",
       "        vertical-align: middle;\n",
       "    }\n",
       "\n",
       "    .dataframe tbody tr th {\n",
       "        vertical-align: top;\n",
       "    }\n",
       "\n",
       "    .dataframe thead th {\n",
       "        text-align: right;\n",
       "    }\n",
       "</style>\n",
       "<table border=\"1\" class=\"dataframe\">\n",
       "  <thead>\n",
       "    <tr style=\"text-align: right;\">\n",
       "      <th></th>\n",
       "      <th>bookTitle</th>\n",
       "      <th>Plot</th>\n",
       "      <th>Url</th>\n",
       "      <th>Similarity</th>\n",
       "    </tr>\n",
       "  </thead>\n",
       "  <tbody>\n",
       "    <tr>\n",
       "      <th>0</th>\n",
       "      <td>One Pink Line</td>\n",
       "      <td>can love lifetim forev chang one pink line din...</td>\n",
       "      <td>https://www.goodreads.com/book/show/13108849-o...</td>\n",
       "      <td>0.282071</td>\n",
       "    </tr>\n",
       "    <tr>\n",
       "      <th>1</th>\n",
       "      <td>Pink Slips</td>\n",
       "      <td>aldrich book deliv solidli structur detail fil...</td>\n",
       "      <td>https://www.goodreads.com/book/show/35183676-p...</td>\n",
       "      <td>0.250571</td>\n",
       "    </tr>\n",
       "    <tr>\n",
       "      <th>2</th>\n",
       "      <td>The Pink Dress</td>\n",
       "      <td>a dab perfum new pink dress sue transform hero...</td>\n",
       "      <td>https://www.goodreads.com/book/show/1780471.Th...</td>\n",
       "      <td>0.219255</td>\n",
       "    </tr>\n",
       "    <tr>\n",
       "      <th>3</th>\n",
       "      <td>The Secret History of the Pink Carnation</td>\n",
       "      <td>decid true romant hero thing past eloi kelli i...</td>\n",
       "      <td>https://www.goodreads.com/book/show/84351.The_...</td>\n",
       "      <td>0.193660</td>\n",
       "    </tr>\n",
       "    <tr>\n",
       "      <th>4</th>\n",
       "      <td>Princess in Pink</td>\n",
       "      <td>princess mia dream prom contend hotel worker s...</td>\n",
       "      <td>https://www.goodreads.com/book/show/93731.Prin...</td>\n",
       "      <td>0.189402</td>\n",
       "    </tr>\n",
       "    <tr>\n",
       "      <th>5</th>\n",
       "      <td>The Case of the Peculiar Pink Fan</td>\n",
       "      <td>when enola holm encount friend ladi cecili hid...</td>\n",
       "      <td>https://www.goodreads.com/book/show/3039234-th...</td>\n",
       "      <td>0.171958</td>\n",
       "    </tr>\n",
       "    <tr>\n",
       "      <th>6</th>\n",
       "      <td>Food Festival and a Funeral</td>\n",
       "      <td>the pink cupcak truck from usa today bestsel a...</td>\n",
       "      <td>https://www.goodreads.com/book/show/33244832-f...</td>\n",
       "      <td>0.166227</td>\n",
       "    </tr>\n",
       "    <tr>\n",
       "      <th>7</th>\n",
       "      <td>The Pink Triangle: The Nazi War Against Homose...</td>\n",
       "      <td>thi first comprehen book english fate homosexu...</td>\n",
       "      <td>https://www.goodreads.com/book/show/391660.The...</td>\n",
       "      <td>0.143711</td>\n",
       "    </tr>\n",
       "    <tr>\n",
       "      <th>8</th>\n",
       "      <td>The Black Flamingo</td>\n",
       "      <td>a boy come term ident mix race gay teen univ f...</td>\n",
       "      <td>https://www.goodreads.com/book/show/41020406-t...</td>\n",
       "      <td>0.138393</td>\n",
       "    </tr>\n",
       "    <tr>\n",
       "      <th>9</th>\n",
       "      <td>The Attributes of God</td>\n",
       "      <td>the foundat knowledg god rest upon know like w...</td>\n",
       "      <td>https://www.goodreads.com/book/show/252783.The...</td>\n",
       "      <td>0.132505</td>\n",
       "    </tr>\n",
       "  </tbody>\n",
       "</table>\n",
       "</div>"
      ],
      "text/plain": [
       "                                           bookTitle  \\\n",
       "0                                      One Pink Line   \n",
       "1                                         Pink Slips   \n",
       "2                                     The Pink Dress   \n",
       "3           The Secret History of the Pink Carnation   \n",
       "4                                   Princess in Pink   \n",
       "5                  The Case of the Peculiar Pink Fan   \n",
       "6                        Food Festival and a Funeral   \n",
       "7  The Pink Triangle: The Nazi War Against Homose...   \n",
       "8                                 The Black Flamingo   \n",
       "9                              The Attributes of God   \n",
       "\n",
       "                                                Plot  \\\n",
       "0  can love lifetim forev chang one pink line din...   \n",
       "1  aldrich book deliv solidli structur detail fil...   \n",
       "2  a dab perfum new pink dress sue transform hero...   \n",
       "3  decid true romant hero thing past eloi kelli i...   \n",
       "4  princess mia dream prom contend hotel worker s...   \n",
       "5  when enola holm encount friend ladi cecili hid...   \n",
       "6  the pink cupcak truck from usa today bestsel a...   \n",
       "7  thi first comprehen book english fate homosexu...   \n",
       "8  a boy come term ident mix race gay teen univ f...   \n",
       "9  the foundat knowledg god rest upon know like w...   \n",
       "\n",
       "                                                 Url  Similarity  \n",
       "0  https://www.goodreads.com/book/show/13108849-o...    0.282071  \n",
       "1  https://www.goodreads.com/book/show/35183676-p...    0.250571  \n",
       "2  https://www.goodreads.com/book/show/1780471.Th...    0.219255  \n",
       "3  https://www.goodreads.com/book/show/84351.The_...    0.193660  \n",
       "4  https://www.goodreads.com/book/show/93731.Prin...    0.189402  \n",
       "5  https://www.goodreads.com/book/show/3039234-th...    0.171958  \n",
       "6  https://www.goodreads.com/book/show/33244832-f...    0.166227  \n",
       "7  https://www.goodreads.com/book/show/391660.The...    0.143711  \n",
       "8  https://www.goodreads.com/book/show/41020406-t...    0.138393  \n",
       "9  https://www.goodreads.com/book/show/252783.The...    0.132505  "
      ]
     },
     "execution_count": 30,
     "metadata": {},
     "output_type": "execute_result"
    }
   ],
   "source": [
    "rank_calculator = functions.WeightedRanks([\n",
    "    (25, functions.ByTfidf(tfidf_indexes)),\n",
    "    (10, functions.ByRatingValue(df)),\n",
    "    (35, functions.ByRatingCount(df)),\n",
    "    (30, functions.ByTitleMatch())\n",
    "])\n",
    "\n",
    "\n",
    "rnkd_SE = functions.RankedSearchEngine(df, term_indexes, inv_indexes, tfidf_indexes, simple_SE, rank_calculator)\n",
    "\n",
    "rnkd_SE.execute_query('pink')"
   ]
  },
  {
   "cell_type": "markdown",
   "metadata": {},
   "source": [
    "# 4. Make a nice visualization!"
   ]
  },
  {
   "cell_type": "markdown",
   "metadata": {},
   "source": [
    "The first function, `cumpage_serie`, is just an helper function: it is just used to retrieve the cumulative number of pages written in a certain year for each of the 10 series we are considering. However, we also decided to include the below plot (figure 1), showing these values.\n",
    "\n",
    "Anyway, what's really asked is to show the number of pages written from an year to another, and we decided to do it in the way you can see from figure 2. Basically, you can see that we used lines-plot using points as markers. Even though this doesn't really make sense (since we are working with year-data, we don't have, or at least we didn't consider, stronger granularity), it makes much easier to follow the path of a certain book serie. You can also notice that at some point some of the lines stop, and that means that that particular serie didn't continue after a certain amount of time."
   ]
  },
  {
   "cell_type": "code",
   "execution_count": 25,
   "metadata": {
    "execution": {
     "iopub.execute_input": "2020-12-03T12:57:02.228087Z",
     "iopub.status.busy": "2020-12-03T12:57:02.227812Z",
     "iopub.status.idle": "2020-12-03T12:57:02.665940Z",
     "shell.execute_reply": "2020-12-03T12:57:02.665384Z",
     "shell.execute_reply.started": "2020-12-03T12:57:02.228057Z"
    }
   },
   "outputs": [
    {
     "data": {
      "image/png": "[encoded data removed]",
      "text/plain": [
       "<Figure size 1440x432 with 1 Axes>"
      ]
     },
     "metadata": {
      "needs_background": "light"
     },
     "output_type": "display_data"
    }
   ],
   "source": [
    "# Figure 1\n",
    "\n",
    "series_pages = functions.cumpage_serie(df)"
   ]
  },
  {
   "cell_type": "code",
   "execution_count": 26,
   "metadata": {
    "execution": {
     "iopub.execute_input": "2020-12-03T12:57:02.666746Z",
     "iopub.status.busy": "2020-12-03T12:57:02.666622Z",
     "iopub.status.idle": "2020-12-03T12:57:02.928788Z",
     "shell.execute_reply": "2020-12-03T12:57:02.928261Z",
     "shell.execute_reply.started": "2020-12-03T12:57:02.666729Z"
    }
   },
   "outputs": [
    {
     "data": {
      "image/png": "[encoded data removed]",
      "text/plain": [
       "<Figure size 1440x432 with 1 Axes>"
      ]
     },
     "metadata": {
      "needs_background": "light"
     },
     "output_type": "display_data"
    }
   ],
   "source": [
    "# Figure 2\n",
    "\n",
    "functions.year_pages_visualization(series_pages)"
   ]
  },
  {
   "cell_type": "markdown",
   "metadata": {},
   "source": [
    "# 5. Algorithmic Question"
   ]
  },
  {
   "cell_type": "markdown",
   "metadata": {},
   "source": [
    "## 5.1 Recursive implementation"
   ]
  },
  {
   "cell_type": "code",
   "execution_count": 27,
   "metadata": {
    "execution": {
     "iopub.execute_input": "2020-12-03T12:57:02.930617Z",
     "iopub.status.busy": "2020-12-03T12:57:02.930432Z",
     "iopub.status.idle": "2020-12-03T12:57:02.935140Z",
     "shell.execute_reply": "2020-12-03T12:57:02.934643Z",
     "shell.execute_reply.started": "2020-12-03T12:57:02.930583Z"
    }
   },
   "outputs": [],
   "source": [
    "def helper(arr, pos):\n",
    "    prev_elements = [i for i in range(pos) if arr[i] < arr[pos]]\n",
    "    if len(prev_elements) == 0:\n",
    "        return 1\n",
    "    return 1 + max([helper(arr, i) for i in prev_elements])\n",
    "\n",
    "def lis(arr):\n",
    "    return max([helper(arr, i) for i in range(len(arr))])"
   ]
  },
  {
   "cell_type": "markdown",
   "metadata": {},
   "source": [
    "**Observation 1:**\n",
    "\n",
    "As we can see, the algorithm does what it should do with small strings."
   ]
  },
  {
   "cell_type": "code",
   "execution_count": 28,
   "metadata": {
    "execution": {
     "iopub.execute_input": "2020-12-03T12:57:02.935958Z",
     "iopub.status.busy": "2020-12-03T12:57:02.935834Z",
     "iopub.status.idle": "2020-12-03T12:57:02.971232Z",
     "shell.execute_reply": "2020-12-03T12:57:02.970699Z",
     "shell.execute_reply.started": "2020-12-03T12:57:02.935941Z"
    }
   },
   "outputs": [
    {
     "data": {
      "text/plain": [
       "11"
      ]
     },
     "execution_count": 28,
     "metadata": {},
     "output_type": "execute_result"
    }
   ],
   "source": [
    "s = 'CADFECEILGJHABNOFPSTIRYOEABILCNR'\n",
    "lis(s)"
   ]
  },
  {
   "cell_type": "code",
   "execution_count": 29,
   "metadata": {
    "execution": {
     "iopub.execute_input": "2020-12-03T12:57:02.972014Z",
     "iopub.status.busy": "2020-12-03T12:57:02.971855Z",
     "iopub.status.idle": "2020-12-03T12:57:02.975152Z",
     "shell.execute_reply": "2020-12-03T12:57:02.974802Z",
     "shell.execute_reply.started": "2020-12-03T12:57:02.971996Z"
    }
   },
   "outputs": [
    {
     "data": {
      "text/plain": [
       "2"
      ]
     },
     "execution_count": 29,
     "metadata": {},
     "output_type": "execute_result"
    }
   ],
   "source": [
    "s = 'ABABABAB'\n",
    "lis(s)"
   ]
  },
  {
   "cell_type": "markdown",
   "metadata": {},
   "source": [
    "**Observation 2:**\n",
    "\n",
    "Problem raises when there are consecutive alphabetical characters. That is, in fact, the worst possible case. Let's try it!"
   ]
  },
  {
   "cell_type": "code",
   "execution_count": 30,
   "metadata": {
    "execution": {
     "iopub.execute_input": "2020-12-03T12:57:02.975821Z",
     "iopub.status.busy": "2020-12-03T12:57:02.975700Z",
     "iopub.status.idle": "2020-12-03T12:57:49.341385Z",
     "shell.execute_reply": "2020-12-03T12:57:49.340879Z",
     "shell.execute_reply.started": "2020-12-03T12:57:02.975804Z"
    }
   },
   "outputs": [
    {
     "name": "stdout",
     "output_type": "stream",
     "text": [
      "Time for execution: 46.36s\n"
     ]
    }
   ],
   "source": [
    "import time\n",
    "\n",
    "s = 'ABCDEFGHIJKLMNOPQRSTUVWXYZ'\n",
    "start = time.time()\n",
    "lis(s)\n",
    "end = time.time()\n",
    "\n",
    "print('Time for execution: {:.2f}s'.format(end - start))"
   ]
  },
  {
   "cell_type": "markdown",
   "metadata": {},
   "source": [
    "We can see that with just 26 characters in an alphabetical order, our algorithm takes a pretty long time. If we try to use this algorithm with something even longer (e.g., a list `[1, 2, 3, ..., 100]`; notice that the algorithm also works with lists!) it wouldn't actually end in a reasonable time."
   ]
  },
  {
   "cell_type": "markdown",
   "metadata": {},
   "source": [
    "### Computational complexity"
   ]
  },
  {
   "cell_type": "markdown",
   "metadata": {
    "execution": {
     "iopub.execute_input": "2020-11-29T19:16:19.835224Z",
     "iopub.status.busy": "2020-11-29T19:16:19.835059Z",
     "iopub.status.idle": "2020-11-29T19:16:19.971449Z",
     "shell.execute_reply": "2020-11-29T19:16:19.970807Z",
     "shell.execute_reply.started": "2020-11-29T19:16:19.835204Z"
    }
   },
   "source": [
    "<img src='./images/tree.png' class='center' width=\"1000\" />\n",
    "\n",
    "The previous figure represent the number of nodes at each step. We can easily see that at each step we have that, representing with $f(i)$ the number of nodes at step $i$:\n",
    "\n",
    "$$f(n) = 1 + f(n - 1) + f(n - 2) + \\dots + f(1) = 1 + \\sum_{i = 1}^{n - 1} f(i)$$\n",
    "\n",
    "where the addends of the above formula represent respectively the root of the tree, the number of nodes for the sub-tree which has $n - 1$ as root, the number of nodes for the sub-tree which has $n - 2$ as root, and so on so forth.\n",
    "\n",
    "Now, we can prove that the total number of nodes is exactly $2^{n - 1}$. If we try this for small numbers, this is trivial; if we want to prove this, we can use strong induction on $n$:\n",
    "\n",
    "At step 1, we obviously have $2^0 = 1$ nodes, since we just have the root node.\n",
    "\n",
    "Let's assume that this is true $\\forall k \\le n$, we need to prove that this implies that this formula is also true for $n + 1$. Let's compute $f(n + 1)$ and see what we can do:\n",
    "\n",
    "\\begin{align}\n",
    "    f(n + 1) & = 1 + \\sum_{i = 1}^{n} f(i) = 1 + \\sum_{i = 1}^{n} 2^{i - 1} = 1 + \\sum_{i = 0}^{n - 1} 2^{i} \\\\\n",
    "    & = 1 + \\frac{2^n - 1}{2 - 1} = 2^n = 2^{(n + 1) - 1} \\\\\n",
    "\\end{align}\n",
    "\n",
    "which is exactly what we were trying to prove.\n",
    "\n",
    "Now, each node has complexity $O\\,(n)$ in the worst case, since there is the computation of the previous elements. Having an exponential number of nodes, this means that the total complexity is also exponential."
   ]
  },
  {
   "cell_type": "markdown",
   "metadata": {},
   "source": [
    "## 5.2 Dynamic implementation"
   ]
  },
  {
   "cell_type": "code",
   "execution_count": 31,
   "metadata": {
    "execution": {
     "iopub.execute_input": "2020-12-03T12:57:49.342204Z",
     "iopub.status.busy": "2020-12-03T12:57:49.342021Z",
     "iopub.status.idle": "2020-12-03T12:57:49.346883Z",
     "shell.execute_reply": "2020-12-03T12:57:49.346375Z",
     "shell.execute_reply.started": "2020-12-03T12:57:49.342177Z"
    }
   },
   "outputs": [],
   "source": [
    "def dyn_lis(arr):\n",
    "    if len(arr) == 1:\n",
    "        return 1\n",
    "    fin_max = 1\n",
    "    prev_lis = [1] * len(arr)\n",
    "    for i in range(1, len(arr)):\n",
    "        curr_max = 1\n",
    "        for j in range(i):\n",
    "            if arr[i] > arr[j]:\n",
    "                curr_max = max(curr_max, prev_lis[j] + 1)\n",
    "            prev_lis[i] = curr_max\n",
    "    return max(prev_lis)"
   ]
  },
  {
   "cell_type": "markdown",
   "metadata": {},
   "source": [
    "**Observation:**\n",
    "\n",
    "Even if this is not the best solution out there (this takes $O \\, (n^2)$, best solution takes $O \\, (n \\log n)$), we can see that this is feasible when working with reasonable inputs."
   ]
  },
  {
   "cell_type": "code",
   "execution_count": 32,
   "metadata": {
    "execution": {
     "iopub.execute_input": "2020-12-03T12:57:49.347494Z",
     "iopub.status.busy": "2020-12-03T12:57:49.347375Z",
     "iopub.status.idle": "2020-12-03T12:57:49.563162Z",
     "shell.execute_reply": "2020-12-03T12:57:49.562635Z",
     "shell.execute_reply.started": "2020-12-03T12:57:49.347477Z"
    }
   },
   "outputs": [
    {
     "name": "stdout",
     "output_type": "stream",
     "text": [
      "Longest increasing for `s` has lenght 11\n",
      "Time for execution for `big_s` = 0.17s\n"
     ]
    }
   ],
   "source": [
    "s = 'CADFECEILGJHABNOFPSTIRYOEABILCNR'\n",
    "print('Longest increasing for `s` has lenght {}'.format(dyn_lis(s)))\n",
    "\n",
    "big_s = range(1000)\n",
    "start = time.time()\n",
    "dyn_lis(big_s)\n",
    "end = time.time()\n",
    "\n",
    "print('Time for execution for `big_s` = {:.2f}s'.format(end - start))"
   ]
  },
  {
   "cell_type": "markdown",
   "metadata": {},
   "source": [
    "### Computational complexity"
   ]
  },
  {
   "cell_type": "markdown",
   "metadata": {},
   "source": [
    "First, outside of the loop there are two functions (`len()` and `max()`) which both takes linear time $O(n)$. Inside the nested loops, there is an `if` statement, which takes $O(1)$, and since we are doing $n^2$ iterations in total, we have $O(n^2)$ for the `for` loops. Notice that the `max` in the `if` is just between two elements, so it only takes $O(1)$.\n",
    "\n",
    "Therefore, we can conclude that the total time complexity is $O(n^2)$."
   ]
  },
  {
   "cell_type": "markdown",
   "metadata": {},
   "source": [
    "## Proof of the formula\n",
    "Define as X[i] = \"the length of the longest sequence of characters in alphabetical order that terminates at the *i*-th character\". We want to prove that\n",
    "\n",
    "```X[i] = 1 + max{X[j]; j = 0, ..., i-1, such that S[j]<S[i]}```\n",
    "\n",
    "```X[i] = 1, if there does not exist such a j```\n",
    "\n",
    "To prove that the formula is correct, we can proceed by strong induction on the lenght of the string: we prove that the formula is correct for a string of lenght $1$, then we assume it is correct $\\forall i < n$, and finally we prove that this implies that the formula is also correct for $n$.\n",
    "\n",
    "When a string is composed by just 1 character, we obviously find ourself in the second condition, so it is trivially true.\n",
    "\n",
    "Let's suppose it is correct for each lenght $i < n$. Now, if we append a new character to the string, there are two options: either the character is longer than the last character of the longest increasing sequence, in which case we would have + 1 on the lenght of the LIS, or it isn't.\n",
    "\n",
    "In the first case, as we already said, we would have\n",
    "\n",
    "```X[n] = 1 + X[n - 1]```\n",
    "\n",
    "where ```X[n - 1]``` corresponds to the lenght of the longest increasing sequence of n - 1 characters, which is exactly the max between all the LIS between the LISs of all the characters before the last one.\n",
    "\n",
    "In the second case, the last character isn't greater than all the others. If it is smaller than all the others, than ```X[n] = 1```, obviously, and it respect the second case. If it bigger than just a subset of of characters of the string, then the LIS would be the LIS of those characters, with just this last character added. Thus, the LIS lenght would be LIS lenght of the subset of characters + 1, which proves the statement, since it would be the max between the LIS lenghts of the characters smaller than the one we are considering, plus 1."
   ]
  }
 ],
 "metadata": {
  "kernelspec": {
   "display_name": "Python 3",
   "language": "python",
   "name": "python3"
  },
  "language_info": {
   "codemirror_mode": {
    "name": "ipython",
    "version": 3
   },
   "file_extension": ".py",
   "mimetype": "text/x-python",
   "name": "python",
   "nbconvert_exporter": "python",
   "pygments_lexer": "ipython3",
   "version": "3.7.6"
  },
  "toc-autonumbering": false,
  "toc-showcode": false,
  "toc-showmarkdowntxt": false,
  "toc-showtags": false
 },
 "nbformat": 4,
 "nbformat_minor": 4
}
